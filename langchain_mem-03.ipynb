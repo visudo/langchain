{
 "cells": [
  {
   "cell_type": "code",
   "execution_count": 11,
   "id": "35130609-b765-41f4-b5c4-3302bed8198e",
   "metadata": {},
   "outputs": [],
   "source": [
    "import os\n",
    "import openai\n",
    "from dotenv import load_dotenv, find_dotenv\n",
    "_ = load_dotenv(find_dotenv())\n",
    "import httpx\n",
    "from langchain_openai import ChatOpenAI\n",
    "llm = ChatOpenAI(temperature=0.0,api_key=os.environ['OPENAI_API_KEY'],base_url=\"https://api-inference.modelscope.cn/v1/\", http_client=httpx.Client(verify=False),model=\"deepseek-ai/DeepSeek-R1-Distill-Qwen-7B\")"
   ]
  },
  {
   "cell_type": "markdown",
   "id": "c303dc48-6412-411c-bd62-44e808ef07b6",
   "metadata": {},
   "source": [
    "#### 1. ConversationBufferMemory（对话缓存记忆）\n",
    "这种记忆允许存储消息，然后从变量中提取消息。"
   ]
  },
  {
   "cell_type": "code",
   "execution_count": 12,
   "id": "3c68745c-9291-4685-bc82-2f9e595fc1fc",
   "metadata": {},
   "outputs": [],
   "source": [
    "import warnings\n",
    "warnings.filterwarnings('ignore')\n",
    "from langchain.chains import ConversationChain\n",
    "from langchain.memory import ConversationBufferMemory\n",
    "memory = ConversationBufferMemory()\n",
    "conversation = ConversationChain(llm=llm, memory = memory,\n",
    "                                 verbose=True#查看Langchain实际上在做什么，设为FALSE的话只给出回答，看到不到下面绿色的内容\n",
    ")\n"
   ]
  },
  {
   "cell_type": "code",
   "execution_count": 13,
   "id": "613b455f-03cc-4492-a78c-d076f490b117",
   "metadata": {},
   "outputs": [
    {
     "name": "stdout",
     "output_type": "stream",
     "text": [
      "\n",
      "\n",
      "\u001b[1m> Entering new ConversationChain chain...\u001b[0m\n",
      "Prompt after formatting:\n",
      "\u001b[32;1m\u001b[1;3mThe following is a friendly conversation between a human and an AI. The AI is talkative and provides lots of specific details from its context. If the AI does not know the answer to a question, it truthfully says it does not know.\n",
      "\n",
      "Current conversation:\n",
      "\n",
      "Human: Hi, my name is andy\n",
      "AI:\u001b[0m\n",
      "\n",
      "\u001b[1m> Finished chain.\u001b[0m\n"
     ]
    },
    {
     "data": {
      "text/plain": [
       "'Hello, Andy! How can I assist you today? 😊'"
      ]
     },
     "execution_count": 13,
     "metadata": {},
     "output_type": "execute_result"
    }
   ],
   "source": [
    "conversation.predict(input=\"Hi, my name is andy\")"
   ]
  },
  {
   "cell_type": "code",
   "execution_count": 14,
   "id": "e83a2475-525d-459d-a07c-42019217461b",
   "metadata": {},
   "outputs": [
    {
     "name": "stdout",
     "output_type": "stream",
     "text": [
      "\n",
      "\n",
      "\u001b[1m> Entering new ConversationChain chain...\u001b[0m\n",
      "Prompt after formatting:\n",
      "\u001b[32;1m\u001b[1;3mThe following is a friendly conversation between a human and an AI. The AI is talkative and provides lots of specific details from its context. If the AI does not know the answer to a question, it truthfully says it does not know.\n",
      "\n",
      "Current conversation:\n",
      "Human: Hi, my name is andy\n",
      "AI: Hello, Andy! How can I assist you today? 😊\n",
      "Human: What is 1+1?\n",
      "AI:\u001b[0m\n",
      "\n",
      "\u001b[1m> Finished chain.\u001b[0m\n"
     ]
    },
    {
     "data": {
      "text/plain": [
       "'The sum of 1 plus 1 is 2. \\n\\n**Answer:** 1 + 1 equals 2.'"
      ]
     },
     "execution_count": 14,
     "metadata": {},
     "output_type": "execute_result"
    }
   ],
   "source": [
    "conversation.predict(input=\"What is 1+1?\")"
   ]
  },
  {
   "cell_type": "code",
   "execution_count": 15,
   "id": "aef54468-2a59-49ef-ab71-2bbe26c5bc6c",
   "metadata": {},
   "outputs": [
    {
     "name": "stdout",
     "output_type": "stream",
     "text": [
      "Human: Hi, my name is andy\n",
      "AI: Hello, Andy! How can I assist you today? 😊\n",
      "Human: What is 1+1?\n",
      "AI: The sum of 1 plus 1 is 2. \n",
      "\n",
      "**Answer:** 1 + 1 equals 2.\n"
     ]
    }
   ],
   "source": [
    "print(memory.buffer)"
   ]
  },
  {
   "cell_type": "code",
   "execution_count": 16,
   "id": "619f0c50-2673-4d15-9015-0883e316b9f3",
   "metadata": {},
   "outputs": [
    {
     "data": {
      "text/plain": [
       "{'history': 'Human: Hi, my name is andy\\nAI: Hello, Andy! How can I assist you today? 😊\\nHuman: What is 1+1?\\nAI: The sum of 1 plus 1 is 2. \\n\\n**Answer:** 1 + 1 equals 2.'}"
      ]
     },
     "execution_count": 16,
     "metadata": {},
     "output_type": "execute_result"
    }
   ],
   "source": [
    "memory.load_memory_variables({})"
   ]
  },
  {
   "cell_type": "code",
   "execution_count": null,
   "id": "1ac76845-f5a6-435f-bac4-dc1519a3e228",
   "metadata": {},
   "outputs": [],
   "source": []
  }
 ],
 "metadata": {
  "kernelspec": {
   "display_name": "Python 3 (ipykernel)",
   "language": "python",
   "name": "python3"
  },
  "language_info": {
   "codemirror_mode": {
    "name": "ipython",
    "version": 3
   },
   "file_extension": ".py",
   "mimetype": "text/x-python",
   "name": "python",
   "nbconvert_exporter": "python",
   "pygments_lexer": "ipython3",
   "version": "3.12.9"
  }
 },
 "nbformat": 4,
 "nbformat_minor": 5
}
