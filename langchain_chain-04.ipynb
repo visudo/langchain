{
 "cells": [
  {
   "cell_type": "markdown",
   "id": "62868b86-87a9-468f-8871-4e5bba30fd71",
   "metadata": {},
   "source": [
    "## Chains\n",
    "链允许我们将多个组件组合在一起，以创建一个单一的、连贯的应用程序"
   ]
  },
  {
   "cell_type": "code",
   "execution_count": 1,
   "id": "80ede06d-797c-4844-9d50-6e26440f50e0",
   "metadata": {},
   "outputs": [],
   "source": [
    "import warnings\n",
    "warnings.filterwarnings('ignore')\n",
    "import os\n",
    "import openai\n",
    "from dotenv import load_dotenv, find_dotenv\n",
    "_ = load_dotenv(find_dotenv())\n",
    "import httpx\n",
    "from langchain_openai import ChatOpenAI\n",
    "llm = ChatOpenAI(temperature=0.0,api_key=os.environ['OPENAI_API_KEY'],base_url=\"https://api-inference.modelscope.cn/v1/\", http_client=httpx.Client(verify=False),model=\"deepseek-ai/DeepSeek-R1-Distill-Qwen-7B\")"
   ]
  },
  {
   "cell_type": "code",
   "execution_count": 5,
   "id": "a893e01b-ed6a-430f-ada3-10382a72e80c",
   "metadata": {},
   "outputs": [],
   "source": [
    "import pandas as pd\n",
    "df = pd.read_csv('Data.csv',encoding='utf-8')"
   ]
  },
  {
   "cell_type": "code",
   "execution_count": 6,
   "id": "4a1b7ce4-7707-49bd-ad26-d6dedc036cfd",
   "metadata": {},
   "outputs": [
    {
     "data": {
      "text/html": [
       "<div>\n",
       "<style scoped>\n",
       "    .dataframe tbody tr th:only-of-type {\n",
       "        vertical-align: middle;\n",
       "    }\n",
       "\n",
       "    .dataframe tbody tr th {\n",
       "        vertical-align: top;\n",
       "    }\n",
       "\n",
       "    .dataframe thead th {\n",
       "        text-align: right;\n",
       "    }\n",
       "</style>\n",
       "<table border=\"1\" class=\"dataframe\">\n",
       "  <thead>\n",
       "    <tr style=\"text-align: right;\">\n",
       "      <th></th>\n",
       "      <th>Product</th>\n",
       "      <th>Review</th>\n",
       "    </tr>\n",
       "  </thead>\n",
       "  <tbody>\n",
       "    <tr>\n",
       "      <th>0</th>\n",
       "      <td>Queen Size Sheet Set</td>\n",
       "      <td>I ordered a king size set. My only criticism w...</td>\n",
       "    </tr>\n",
       "    <tr>\n",
       "      <th>1</th>\n",
       "      <td>Waterproof Phone Pouch</td>\n",
       "      <td>I loved the waterproof sac, although the openi...</td>\n",
       "    </tr>\n",
       "    <tr>\n",
       "      <th>2</th>\n",
       "      <td>Luxury Air Mattress</td>\n",
       "      <td>This mattress had a small hole in the top of i...</td>\n",
       "    </tr>\n",
       "    <tr>\n",
       "      <th>3</th>\n",
       "      <td>Pillows Insert</td>\n",
       "      <td>This is the best throw pillow fillers on Amazo...</td>\n",
       "    </tr>\n",
       "    <tr>\n",
       "      <th>4</th>\n",
       "      <td>Milk Frother Handheld\\n</td>\n",
       "      <td>I loved this product. But they only seem to l...</td>\n",
       "    </tr>\n",
       "    <tr>\n",
       "      <th>5</th>\n",
       "      <td>L'Or Espresso Café \\n</td>\n",
       "      <td>Je trouve le goût médiocre. La mousse ne tient...</td>\n",
       "    </tr>\n",
       "    <tr>\n",
       "      <th>6</th>\n",
       "      <td>Hervidor de Agua Eléctrico</td>\n",
       "      <td>Está lu bonita calienta muy rápido, es muy fun...</td>\n",
       "    </tr>\n",
       "  </tbody>\n",
       "</table>\n",
       "</div>"
      ],
      "text/plain": [
       "                      Product  \\\n",
       "0        Queen Size Sheet Set   \n",
       "1      Waterproof Phone Pouch   \n",
       "2         Luxury Air Mattress   \n",
       "3              Pillows Insert   \n",
       "4     Milk Frother Handheld\\n   \n",
       "5       L'Or Espresso Café \\n   \n",
       "6  Hervidor de Agua Eléctrico   \n",
       "\n",
       "                                              Review  \n",
       "0  I ordered a king size set. My only criticism w...  \n",
       "1  I loved the waterproof sac, although the openi...  \n",
       "2  This mattress had a small hole in the top of i...  \n",
       "3  This is the best throw pillow fillers on Amazo...  \n",
       "4   I loved this product. But they only seem to l...  \n",
       "5  Je trouve le goût médiocre. La mousse ne tient...  \n",
       "6  Está lu bonita calienta muy rápido, es muy fun...  "
      ]
     },
     "execution_count": 6,
     "metadata": {},
     "output_type": "execute_result"
    }
   ],
   "source": [
    "df"
   ]
  },
  {
   "cell_type": "markdown",
   "id": "8fb6719c-2515-46d7-a100-4974db7885a0",
   "metadata": {},
   "source": [
    "### 1. LLMChain\n",
    "LLMChain是一个简单但非常强大的链，也是后面我们将要介绍的许多链的基础。"
   ]
  },
  {
   "cell_type": "code",
   "execution_count": 8,
   "id": "9a8711ea-8d1d-4724-9116-572fe8dbd8f0",
   "metadata": {},
   "outputs": [
    {
     "data": {
      "text/plain": [
       "'**QueenCloud**\\n\\n**Rationale:**\\n- **Clarity and Simplicity:** Clearly indicates the product size (Queen) and evokes imagery of comfort and luxury.\\n- **Memorable Name:** The name \"QueenCloud\" is catchy and easy to remember, capturing the essence of sophistication and comfort.\\n- **Aesthetic Appeal:** Combines \"Queen\" with \"Cloud,\" suggesting softness and breathability, which are desirable qualities in bedding.\\n- **Potential for Branding:** The name is versatile for branding, with room to incorporate design elements that reflect luxury or style.\\n\\nThis name effectively communicates the product\\'s characteristics while appealing to a premium audience.'"
      ]
     },
     "execution_count": 8,
     "metadata": {},
     "output_type": "execute_result"
    }
   ],
   "source": [
    "from langchain.prompts import ChatPromptTemplate   #导入聊天提示模板\n",
    "from langchain.chains import LLMChain    #导入LLM链。\n",
    "import warnings\n",
    "warnings.filterwarnings('ignore')\n",
    "prompt = ChatPromptTemplate.from_template(\n",
    "    \"What is the best name to describe \\\n",
    "    a company that makes {product}?\"\n",
    ")\n",
    "chain = LLMChain(llm=llm, prompt=prompt)\n",
    "chain.run(product=\"Queen Size Sheet Set\")"
   ]
  },
  {
   "cell_type": "markdown",
   "id": "57d19942-d3c3-4ef7-82dd-845f8d9aba7a",
   "metadata": {},
   "source": [
    "### 2. SimpleSequentialChain\n",
    "顺序链（Sequential Chains）是按预定义顺序执行其链接的链。具体来说，我们将使用简单顺序链（SimpleSequentialChain），这是顺序链的最简单类型，其中每个步骤都有一个输入/输出，一个步骤的输出是下一个步骤的输入"
   ]
  },
  {
   "cell_type": "code",
   "execution_count": 18,
   "id": "cc140ca8-6c49-4ef4-b98b-1517f8f39ecf",
   "metadata": {},
   "outputs": [
    {
     "name": "stdout",
     "output_type": "stream",
     "text": [
      "\n",
      "\n",
      "\u001b[1m> Entering new SimpleSequentialChain chain...\u001b[0m\n",
      "\u001b[36;1m\u001b[1;3mLuxury Queen Sheets\u001b[0m\n",
      "\u001b[33;1m\u001b[1;3mExperience luxury with our elegant and stylish luxury sheets for your bedroom, crafted with premium materials for unparalleled comfort and sophistication.\u001b[0m\n",
      "\n",
      "\u001b[1m> Finished chain.\u001b[0m\n"
     ]
    },
    {
     "data": {
      "text/plain": [
       "'Experience luxury with our elegant and stylish luxury sheets for your bedroom, crafted with premium materials for unparalleled comfort and sophistication.'"
      ]
     },
     "execution_count": 18,
     "metadata": {},
     "output_type": "execute_result"
    }
   ],
   "source": [
    "from langchain.chains import SimpleSequentialChain\n",
    "first_prompt = ChatPromptTemplate.from_template(\n",
    "    \"What is the best name to describe \\\n",
    "    a company that makes {product}?,only output name\"\n",
    ")\n",
    "\n",
    "chain_one = LLMChain(llm=llm, prompt=first_prompt)\n",
    "second_prompt = ChatPromptTemplate.from_template(\n",
    "    \"Write a 20 words description for the following \\\n",
    "    company:{name}\"\n",
    ")\n",
    "chain_two = LLMChain(llm=llm, prompt=second_prompt)\n",
    "simple_chain = SimpleSequentialChain(chains=[chain_one,chain_two],verbose=True)\n",
    "product = \"Queen Size Sheet Set\"\n",
    "simple_chain.run(product)"
   ]
  },
  {
   "cell_type": "markdown",
   "id": "04c47d9c-b275-45f9-b140-0b0f878d2f04",
   "metadata": {},
   "source": [
    "### 3. SequentialChain\n",
    "当只有一个输入和一个输出时，简单的顺序链可以顺利完成。但是当有多个输入或多个输出时该如何实现呢？\n",
    "我们可以使用普通的顺序链来实现这一点"
   ]
  },
  {
   "cell_type": "code",
   "execution_count": 31,
   "id": "70be4573-89b2-4cb5-8553-e1375ef4f0bc",
   "metadata": {},
   "outputs": [
    {
     "name": "stdout",
     "output_type": "stream",
     "text": [
      "\n",
      "\n",
      "\u001b[1m> Entering new SequentialChain chain...\u001b[0m\n",
      "\n",
      "\u001b[1m> Finished chain.\u001b[0m\n"
     ]
    },
    {
     "data": {
      "text/plain": [
       "{'Review': \"Je trouve le goût médiocre. La mousse ne tient pas, c'est bizarre. J'achète les mêmes dans le commerce et le goût est bien meilleur...\\nVieux lot ou contrefaçon !?\",\n",
       " 'Chinese_Review': '我尝过同款，感觉味道更好呢。  \\n老货还是假货？',\n",
       " 'raw_language': 'French',\n",
       " 'summary': '用户试用后表示味道更佳，但对产品真伪存疑。',\n",
       " 'followup_message': \"Merci beaucoup pour votre retour positif ! Nous sommes ravis de constater que le parfum semble meilleur pour vous. Cependant, pour répondre à votre question concernant la genuineité du produit, nous devrions demander plus de détails. La qualité et la réalitée du parfum sont importants pour nous, et nous aimons garantir que chaque produit que nous offrons est de qualité. Si vous avez des questions spécifiques ou si vous avez besoin d'aide pour confirmer la réalitée du produit, n'hésitez pas à nous le dire !\"}"
      ]
     },
     "execution_count": 31,
     "metadata": {},
     "output_type": "execute_result"
    }
   ],
   "source": [
    "from langchain.chains import SequentialChain\n",
    "first_prompt = ChatPromptTemplate.from_template(\n",
    "    \"Translate the following review to chinese:\"\n",
    "    \"\\n\\n{Review}\"\n",
    ")\n",
    "#chain 1: 输入：Review 输出： 中文的 Review\n",
    "chain_one = LLMChain(llm=llm, prompt=first_prompt, \n",
    "                     output_key=\"Chinese_Review\"\n",
    "                    )\n",
    "second_prompt = ChatPromptTemplate.from_template(\n",
    "    \"Can you summarize the following review in 1 sentence:\"\n",
    "    \"\\n\\n{Chinese_Review}\"\n",
    ")\n",
    "# chain 2: 输入：中文的Review   输出：summary\n",
    "chain_two = LLMChain(llm=llm, prompt=second_prompt, \n",
    "                     output_key=\"summary\"\n",
    "                    )\n",
    "third_prompt = ChatPromptTemplate.from_template(\n",
    "    \"What language is the following review:\\n\\n{Review},you need only output the language\"\n",
    ")\n",
    "# chain 3: 输入：Review  输出：language\n",
    "chain_three = LLMChain(llm=llm, prompt=third_prompt,\n",
    "                       output_key=\"raw_language\"\n",
    "                      )\n",
    "fourth_prompt = ChatPromptTemplate.from_template(\n",
    "    \"Write a follow up response to the following \"\n",
    "    \"summary in the specified language:\"\n",
    "    \"\\n\\nSummary: {summary}\\n\\nLanguage: {raw_language}\"\n",
    ")\n",
    "# chain 4: 输入： summary, language    输出： 后续回复\n",
    "chain_four = LLMChain(llm=llm, prompt=fourth_prompt,\n",
    "                      output_key=\"followup_message\"\n",
    "                     )\n",
    "overall_chain = SequentialChain(\n",
    "    chains=[chain_one, chain_two, chain_three, chain_four],\n",
    "    input_variables=[\"Review\"],\n",
    "    output_variables=[\"Chinese_Review\",\"raw_language\", \"summary\",\"followup_message\"],\n",
    "    verbose=True\n",
    ")\n",
    "review = df.Review[5]\n",
    "overall_chain(review)"
   ]
  },
  {
   "cell_type": "markdown",
   "id": "f3a136b3-6959-45f9-8f7a-9215a9ee9ed3",
   "metadata": {},
   "source": [
    "### 4. LLMRouterChain（此链使用 LLM 来确定如何路由事物）\n",
    "我们需要一个多提示链。这是一种特定类型的链，用于在多个不同的提示模板之间进行路由。 但是，这只是你可以路由的一种类型。你也可以在任何类型的链之间进行路由"
   ]
  },
  {
   "cell_type": "code",
   "execution_count": 32,
   "id": "cd6dfe37-7826-4250-8576-6860a6ff0dbb",
   "metadata": {},
   "outputs": [],
   "source": [
    "#第一个提示适合回答物理问题\n",
    "physics_template = \"\"\"You are a very smart physics professor. \\\n",
    "You are great at answering questions about physics in a concise\\\n",
    "and easy to understand manner. \\\n",
    "When you don't know the answer to a question you admit\\\n",
    "that you don't know.\n",
    "\n",
    "Here is a question:\n",
    "{input}\"\"\"\n",
    "\n",
    "\n",
    "#第二个提示适合回答数学问题\n",
    "math_template = \"\"\"You are a very good mathematician. \\\n",
    "You are great at answering math questions. \\\n",
    "You are so good because you are able to break down \\\n",
    "hard problems into their component parts, \n",
    "answer the component parts, and then put them together\\\n",
    "to answer the broader question.\n",
    "\n",
    "Here is a question:\n",
    "{input}\"\"\"\n",
    "\n",
    "\n",
    "#第三个适合回答历史问题\n",
    "history_template = \"\"\"You are a very good historian. \\\n",
    "You have an excellent knowledge of and understanding of people,\\\n",
    "events and contexts from a range of historical periods. \\\n",
    "You have the ability to think, reflect, debate, discuss and \\\n",
    "evaluate the past. You have a respect for historical evidence\\\n",
    "and the ability to make use of it to support your explanations \\\n",
    "and judgements.\n",
    "\n",
    "Here is a question:\n",
    "{input}\"\"\"\n",
    "\n",
    "\n",
    "#第四个适合回答计算机问题\n",
    "computerscience_template = \"\"\" You are a successful computer scientist.\\\n",
    "You have a passion for creativity, collaboration,\\\n",
    "forward-thinking, confidence, strong problem-solving capabilities,\\\n",
    "understanding of theories and algorithms, and excellent communication \\\n",
    "skills. You are great at answering coding questions. \\\n",
    "You are so good because you know how to solve a problem by \\\n",
    "describing the solution in imperative steps \\\n",
    "that a machine can easily interpret and you know how to \\\n",
    "choose a solution that has a good balance between \\\n",
    "time complexity and space complexity. \n",
    "\n",
    "Here is a question:\n",
    "{input}\"\"\""
   ]
  },
  {
   "cell_type": "code",
   "execution_count": 33,
   "id": "163b853e-4674-4d89-8578-2350ff3925c5",
   "metadata": {},
   "outputs": [],
   "source": [
    "prompt_infos = [\n",
    "    {\n",
    "        \"name\": \"physics\", \n",
    "        \"description\": \"Good for answering questions about physics\", \n",
    "        \"prompt_template\": physics_template\n",
    "    },\n",
    "    {\n",
    "        \"name\": \"math\", \n",
    "        \"description\": \"Good for answering math questions\", \n",
    "        \"prompt_template\": math_template\n",
    "    },\n",
    "    {\n",
    "        \"name\": \"History\", \n",
    "        \"description\": \"Good for answering history questions\", \n",
    "        \"prompt_template\": history_template\n",
    "    },\n",
    "    {\n",
    "        \"name\": \"computer science\", \n",
    "        \"description\": \"Good for answering computer science questions\", \n",
    "        \"prompt_template\": computerscience_template\n",
    "    }\n",
    "]"
   ]
  },
  {
   "cell_type": "code",
   "execution_count": 34,
   "id": "a1aa2981-fa3e-4403-a803-d0be18633650",
   "metadata": {},
   "outputs": [],
   "source": [
    "from langchain.chains.router import MultiPromptChain  #导入多提示链\n",
    "from langchain.chains.router.llm_router import LLMRouterChain,RouterOutputParser\n",
    "from langchain.prompts import PromptTemplate"
   ]
  },
  {
   "cell_type": "code",
   "execution_count": 35,
   "id": "b9bf4dbc-3a6e-46de-a31b-001edb108649",
   "metadata": {},
   "outputs": [],
   "source": [
    "destination_chains = {}\n",
    "for p_info in prompt_infos:\n",
    "    name = p_info[\"name\"]\n",
    "    prompt_template = p_info[\"prompt_template\"]\n",
    "    prompt = ChatPromptTemplate.from_template(template=prompt_template)\n",
    "    chain = LLMChain(llm=llm, prompt=prompt)\n",
    "    destination_chains[name] = chain  \n",
    "    \n",
    "destinations = [f\"{p['name']}: {p['description']}\" for p in prompt_infos]\n",
    "destinations_str = \"\\n\".join(destinations)"
   ]
  },
  {
   "cell_type": "code",
   "execution_count": 36,
   "id": "fdfee97c-7e5c-4dbd-b796-9a4bd1db648c",
   "metadata": {},
   "outputs": [
    {
     "data": {
      "text/plain": [
       "'physics: Good for answering questions about physics\\nmath: Good for answering math questions\\nHistory: Good for answering history questions\\ncomputer science: Good for answering computer science questions'"
      ]
     },
     "execution_count": 36,
     "metadata": {},
     "output_type": "execute_result"
    }
   ],
   "source": [
    "destinations_str"
   ]
  },
  {
   "cell_type": "code",
   "execution_count": 37,
   "id": "e4cba155-b535-4949-9426-d28b97303864",
   "metadata": {},
   "outputs": [],
   "source": [
    "default_prompt = ChatPromptTemplate.from_template(\"{input}\")\n",
    "default_chain = LLMChain(llm=llm, prompt=default_prompt)"
   ]
  },
  {
   "cell_type": "code",
   "execution_count": 38,
   "id": "2234f1bc-a7a0-45cd-8204-232932be4709",
   "metadata": {},
   "outputs": [],
   "source": [
    "MULTI_PROMPT_ROUTER_TEMPLATE = \"\"\"\n",
    "Given a raw text input to a \\\n",
    "language model select the model prompt best suited for the input. \\\n",
    "You will be given the names of the available prompts and a \\\n",
    "description of what the prompt is best suited for. \\\n",
    "You may also revise the original input if you think that revising\\\n",
    "it will ultimately lead to a better response from the language model.\n",
    "\n",
    "<< FORMATTING >>\n",
    "Return a markdown code snippet with a JSON object formatted to look like:\n",
    "```json\n",
    "{{{{\n",
    "    \"destination\": string \\ name of the prompt to use or \"DEFAULT\"\n",
    "    \"next_inputs\": string \\ a potentially modified version of the original input\n",
    "}}}}\n",
    "```\n",
    "\n",
    "REMEMBER: \"destination\" MUST be one of the candidate prompt \\\n",
    "names specified below OR it can be \"DEFAULT\" if the input is not\\\n",
    "well suited for any of the candidate prompts.\n",
    "REMEMBER: \"next_inputs\" can just be the original input \\\n",
    "if you don't think any modifications are needed.\n",
    "\n",
    "<< CANDIDATE PROMPTS >>\n",
    "{destinations}\n",
    "\n",
    "<< INPUT >>\n",
    "{{input}}\n",
    "\n",
    "<< OUTPUT (remember to include the ```json)>>\"\"\""
   ]
  },
  {
   "cell_type": "code",
   "execution_count": 41,
   "id": "ddddb0ac-dbb2-4646-be6f-17aee290b61c",
   "metadata": {},
   "outputs": [],
   "source": [
    "router_template = MULTI_PROMPT_ROUTER_TEMPLATE.format(\n",
    "    destinations=destinations_str\n",
    ")\n",
    "router_prompt = PromptTemplate(\n",
    "    template=router_template,\n",
    "    input_variables=[\"input\"],\n",
    "    output_parser=RouterOutputParser(),\n",
    ")\n",
    "\n",
    "router_chain = LLMRouterChain.from_llm(llm, router_prompt)"
   ]
  },
  {
   "cell_type": "code",
   "execution_count": 42,
   "id": "ad77529c-96f3-49a0-a803-2eb037adf223",
   "metadata": {},
   "outputs": [
    {
     "data": {
      "text/plain": [
       "'\\nGiven a raw text input to a language model select the model prompt best suited for the input. You will be given the names of the available prompts and a description of what the prompt is best suited for. You may also revise the original input if you think that revisingit will ultimately lead to a better response from the language model.\\n\\n<< FORMATTING >>\\nReturn a markdown code snippet with a JSON object formatted to look like:\\n```json\\n{{\\n    \"destination\": string \\\\ name of the prompt to use or \"DEFAULT\"\\n    \"next_inputs\": string \\\\ a potentially modified version of the original input\\n}}\\n```\\n\\nREMEMBER: \"destination\" MUST be one of the candidate prompt names specified below OR it can be \"DEFAULT\" if the input is notwell suited for any of the candidate prompts.\\nREMEMBER: \"next_inputs\" can just be the original input if you don\\'t think any modifications are needed.\\n\\n<< CANDIDATE PROMPTS >>\\nphysics: Good for answering questions about physics\\nmath: Good for answering math questions\\nHistory: Good for answering history questions\\ncomputer science: Good for answering computer science questions\\n\\n<< INPUT >>\\n{input}\\n\\n<< OUTPUT (remember to include the ```json)>>'"
      ]
     },
     "execution_count": 42,
     "metadata": {},
     "output_type": "execute_result"
    }
   ],
   "source": [
    "router_template"
   ]
  },
  {
   "cell_type": "code",
   "execution_count": 43,
   "id": "dd91cd5b-dd5f-4a28-a879-d375c5cce2af",
   "metadata": {},
   "outputs": [],
   "source": [
    "#多提示链\n",
    "chain = MultiPromptChain(router_chain=router_chain,    #l路由链路\n",
    "                         destination_chains=destination_chains,   #目标链路\n",
    "                         default_chain=default_chain,      #默认链路\n",
    "                         verbose=True   \n",
    "                        )"
   ]
  },
  {
   "cell_type": "code",
   "execution_count": 44,
   "id": "0c09f434-728d-4394-8a16-4bf684834ad7",
   "metadata": {},
   "outputs": [
    {
     "name": "stdout",
     "output_type": "stream",
     "text": [
      "\n",
      "\n",
      "\u001b[1m> Entering new MultiPromptChain chain...\u001b[0m\n",
      "physics: {'input': 'What is black body radiation?'}\n",
      "\u001b[1m> Finished chain.\u001b[0m\n"
     ]
    },
    {
     "data": {
      "text/plain": [
       "\"Black body radiation is the theoretical radiation emitted by an idealized object, known as a black body, which absorbs all incident electromagnetic radiation. This perfect absorber emits radiation across all wavelengths, with the intensity depending on its temperature. Key aspects of black body radiation include:\\n\\n1. **Definition**: A black body absorbs all incident light and emits radiation based on its temperature. It is a conceptual model, as real objects may reflect some light.\\n\\n2. **Spectrum**: The emitted radiation's spectrum follows the Planck distribution, which describes energy distribution across wavelengths. The peak wavelength is inversely proportional to temperature (Wien's displacement law), and the total power radiated is proportional to the fourth power of temperature (Stefan-Boltzmann law).\\n\\n3. **Applications**: Used in thermal design, astrophysics (e.g., star emission), and communication systems. It helps explain phenomena like the color of stars and the thermal radiation from surfaces.\\n\\n4. **History and Modern Context**: Studied in the 19th century, with Planck's quantum theory resolving inconsistencies between classical physics and observed radiation patterns, leading to the concept of quantized energy levels.\\n\\nIn essence, black body radiation is a fundamental concept in understanding radiation emission, crucial in various scientific and engineering fields.\""
      ]
     },
     "execution_count": 44,
     "metadata": {},
     "output_type": "execute_result"
    }
   ],
   "source": [
    "chain.run(\"What is black body radiation?\")"
   ]
  },
  {
   "cell_type": "code",
   "execution_count": 45,
   "id": "50c5f6a9-27bf-4fcf-a0e9-036dafdf45c8",
   "metadata": {},
   "outputs": [
    {
     "name": "stdout",
     "output_type": "stream",
     "text": [
      "\n",
      "\n",
      "\u001b[1m> Entering new MultiPromptChain chain...\u001b[0m\n",
      "physics: {'input': '黑洞是种什么物质?'}\n",
      "\u001b[1m> Finished chain.\u001b[0m\n"
     ]
    },
    {
     "data": {
      "text/plain": [
       "'黑洞并不是一种传统意义上的物质，而是一种极端的天体现象，其本质是时空的极度弯曲所导致的极端引力场。以下是关于黑洞的更准确解释：\\n\\n1. **定义与预测**：\\n   - 黑洞是广义相对论中预测的极端引力体，由大质量恒星在生命末期坍缩形成。\\n   - 它是一个引力极强的区域，使得光和 matter 无法逃脱其引力束缚，形成所谓的“事件视界”。\\n\\n2. **内部结构**：\\n   - 黑洞的核心是一个奇点，理论认为这里时空曲率变得无限大，物质和能量被无限压缩。\\n   - 奇点是一个数学上的概念，实际是否存在尚有争议，物理学家仍在探索其内部结构。\\n\\n3. **组成与观测**：\\n   - 黑洞本身并不含有传统意义上的物质，而是由极强的引力场主导的空间和时间结构。\\n   - 黑洞的质量主要来自于其父恒星的质量，而非内部物质的组成。\\n   - 黑洞通过吞噬其他物质和光来增重，但其自身的“物质”含量尚不清楚，因为未直接观测到其内部。\\n\\n4. **暗物质与黑洞的关系**：\\n   - 黑洞与暗物质的关系尚未明确，暗物质是解释宇宙结构的动力学的重要理论概念，而黑洞是引力极端的表现。\\n   - 黑洞可能与暗物质相互作用，但目前没有直接证据证明它们直接相关。\\n\\n5. **研究与探索**：\\n   - 科学家通过观测黑洞周围的影响，如引力扭曲、X射线喷流等，来研究其性质。\\n   - 黑洞的存在 challenge 了我们的理解，促使我们探索更多关于时空和引力的新理论。\\n\\n总结来说，黑洞是一种极端引力体，由极强的引力场主导，其内部结构尚不清楚，可能包含奇点或由其他未知物质组成。'"
      ]
     },
     "execution_count": 45,
     "metadata": {},
     "output_type": "execute_result"
    }
   ],
   "source": [
    "chain.run(\"黑洞是种什么物质?\")"
   ]
  },
  {
   "cell_type": "code",
   "execution_count": 46,
   "id": "9f3f7e66-857b-41ba-a786-801845c07cb1",
   "metadata": {},
   "outputs": [
    {
     "name": "stdout",
     "output_type": "stream",
     "text": [
      "\n",
      "\n",
      "\u001b[1m> Entering new MultiPromptChain chain...\u001b[0m\n",
      "None: {'input': 'Why does every cell in our body contain DNA?'}\n",
      "\u001b[1m> Finished chain.\u001b[0m\n"
     ]
    },
    {
     "data": {
      "text/plain": [
       "\"Every cell in our body contains DNA because DNA serves as the fundamental genetic material that carries the instructions necessary for the construction and function of proteins. Proteins are critical components of cell structure and function, and without DNA, cells would lack the ability to produce them, leading to a breakdown in cell activity and organismal life.\\n\\nDNA replication is essential for cell division, ensuring that each new cell receives a complete set of genetic instructions. This process is semi-conservative, meaning each new DNA molecule consists of one original strand and one newly synthesized strand. This ensures that genetic information is accurately passed on during cell division.\\n\\nCells maintain their identity through the expression of specific genes, which determines their role in the organism. While all cells share the same DNA, different cells express different genes, leading to the diversity of tissues and organs. DNA's presence in every cell ensures the continuity of life and the proper development of organisms.\\n\\nIn summary, DNA is crucial for the function, growth, and reproduction of cells, providing the genetic instructions necessary for life. Without DNA, cells would be unable to maintain their structure, function, or identity, making DNA indispensable to life as we know it.\""
      ]
     },
     "execution_count": 46,
     "metadata": {},
     "output_type": "execute_result"
    }
   ],
   "source": [
    "chain.run(\"Why does every cell in our body contain DNA?\")"
   ]
  },
  {
   "cell_type": "code",
   "execution_count": null,
   "id": "840b985e-2e7d-4fce-934f-4c7dff2a9406",
   "metadata": {},
   "outputs": [],
   "source": []
  }
 ],
 "metadata": {
  "kernelspec": {
   "display_name": "Python 3 (ipykernel)",
   "language": "python",
   "name": "python3"
  },
  "language_info": {
   "codemirror_mode": {
    "name": "ipython",
    "version": 3
   },
   "file_extension": ".py",
   "mimetype": "text/x-python",
   "name": "python",
   "nbconvert_exporter": "python",
   "pygments_lexer": "ipython3",
   "version": "3.12.9"
  }
 },
 "nbformat": 4,
 "nbformat_minor": 5
}
